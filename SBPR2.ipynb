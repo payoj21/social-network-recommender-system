{
 "cells": [
  {
   "cell_type": "code",
   "execution_count": 15,
   "metadata": {},
   "outputs": [],
   "source": [
    "import os\n",
    "import numpy as np\n",
    "import random\n",
    "import scipy.sparse as sparse\n",
    "from scipy.sparse import *\n",
    "from sklearn.utils import shuffle\n",
    "import pandas as pd\n",
    "from math import ceil\n",
    "from tqdm import trange\n",
    "from sklearn.metrics import *\n",
    "import sys\n",
    "import pickle\n",
    "from itertools import islice"
   ]
  },
  {
   "cell_type": "code",
   "execution_count": 16,
   "metadata": {},
   "outputs": [
    {
     "name": "stdout",
     "output_type": "stream",
     "text": [
      "data dimension: \n",
      " (34130, 3)\n"
     ]
    }
   ],
   "source": [
    "file_dir = '/Users/payoj/Documents/Spring 2019/Recommender Systems/data/Ciao/'\n",
    "pos_file = open(file_dir+\"/positive_feedback_dataframe.pkl\",'rb')\n",
    "soc_file = open(file_dir+\"/social_positive_feedback_dataframe.pkl\",'rb')\n",
    "P = positive_df = pickle.load(pos_file)\n",
    "SP = social_positive_df = pickle.load(soc_file)\n",
    "print('data dimension: \\n', positive_df.shape)"
   ]
  },
  {
   "cell_type": "code",
   "execution_count": 17,
   "metadata": {},
   "outputs": [],
   "source": [
    "def create_matrix(data):\n",
    "    for col in ('item', 'user', 'rating'):\n",
    "        data[col] = data[col].astype('category')\n",
    "    \n",
    "    code_user = dict(zip(data['user'].cat.codes, data['user']))\n",
    "    user_code = dict(zip(data['user'], data['user'].cat.codes))\n",
    "    code_item = dict(zip(data['item'].cat.codes, data['item']))\n",
    "    item_code = dict(zip(data['item'], data['item'].cat.codes))\n",
    "    \n",
    "    mappings = {'code_user' : code_user, 'user_code' : user_code, 'code_item' : code_item, 'item_code' : item_code}\n",
    "\n",
    "    ratings = csr_matrix((data['rating'], (data['user'].cat.codes, data['item'].cat.codes)))\n",
    "    ratings.eliminate_zeros()\n",
    "    return ratings, data, mappings"
   ]
  },
  {
   "cell_type": "code",
   "execution_count": 18,
   "metadata": {},
   "outputs": [],
   "source": [
    "X, df, mappings = create_matrix(positive_df)"
   ]
  },
  {
   "cell_type": "code",
   "execution_count": 19,
   "metadata": {
    "scrolled": true
   },
   "outputs": [],
   "source": [
    "def create_train_test(ratings, test_size = 0.2, seed = 1234):\n",
    "    assert test_size < 1.0 and test_size > 0.0\n",
    "\n",
    "    # Dictionary Of Keys based sparse matrix is more efficient\n",
    "    # for constructing sparse matrices incrementally compared with csr_matrix\n",
    "    train = ratings.copy().todok()\n",
    "    test = dok_matrix(train.shape)\n",
    "    \n",
    "    # for all the users assign randomly chosen interactions\n",
    "    # to the test and assign those interactions to zero in the training;\n",
    "    # when computing the interactions to go into the test set, \n",
    "    # remember to round up the numbers (e.g. a user has 4 ratings, if the\n",
    "    # test_size is 0.2, then 0.8 ratings will go to test, thus we need to\n",
    "    # round up to ensure the test set gets at least 1 rating)\n",
    "    rstate = np.random.RandomState(seed)\n",
    "    for u in range(ratings.shape[0]):\n",
    "        split_index = ratings[u].indices\n",
    "        n_splits = ceil(test_size * split_index.shape[0])\n",
    "        test_index = rstate.choice(split_index, size = n_splits, replace = False)\n",
    "        test[u, test_index] = ratings[u, test_index]\n",
    "        train[u, test_index] = 0\n",
    "    \n",
    "    train, test = train.tocsr(), test.tocsr()\n",
    "    return train, test"
   ]
  },
  {
   "cell_type": "code",
   "execution_count": 20,
   "metadata": {},
   "outputs": [
    {
     "data": {
      "text/plain": [
       "<2104x10768 sparse matrix of type '<class 'numpy.int64'>'\n",
       "\twith 29673 stored elements in Compressed Sparse Row format>"
      ]
     },
     "execution_count": 20,
     "metadata": {},
     "output_type": "execute_result"
    }
   ],
   "source": [
    "X_train, X_test = create_train_test(X, test_size = 0.1, seed = 20191004)\n",
    "X_train"
   ]
  },
  {
   "cell_type": "code",
   "execution_count": 21,
   "metadata": {},
   "outputs": [],
   "source": [
    "class Sample:\n",
    "    def __init__(self, P, SP):\n",
    "        self.P = P\n",
    "        self.SP = SP\n",
    "        \n",
    "    def static(self, social = False):\n",
    "        user = np.random.choice(self.P['user'])\n",
    "        \n",
    "        items = {}\n",
    "        \n",
    "        items['P'] = np.random.choice(self.P.query('user == @user')['item'])\n",
    "        tot_items = set(self.P['item'])\n",
    "        if social:\n",
    "            df_sp = list(self.SP.query('user == @user')['item'])\n",
    "            if(len(df_sp)):\n",
    "                items['SP'] = np.random.choice(df_sp)\n",
    "\n",
    "        \n",
    "        pos_items = []\n",
    "        for key in items:\n",
    "            pos_items.append(items[key])\n",
    "        \n",
    "        neg_items = list(tot_items - set(pos_items))\n",
    "                \n",
    "        items['N'] = np.random.choice(neg_items)\n",
    "        \n",
    "        return user, items"
   ]
  },
  {
   "cell_type": "code",
   "execution_count": 22,
   "metadata": {},
   "outputs": [],
   "source": [
    "def get_mappings(code, key):\n",
    "    return code[key]"
   ]
  },
  {
   "cell_type": "code",
   "execution_count": 11,
   "metadata": {},
   "outputs": [],
   "source": [
    "# X_train, df_train = create_matrix(train, users_col, items_col, ratings_col, threshold)\n",
    "# X_test, df_test = create_matrix(test, users_col, items_col, ratings_col, threshold)"
   ]
  },
  {
   "cell_type": "code",
   "execution_count": 12,
   "metadata": {},
   "outputs": [],
   "source": [
    "def create_train_test(ratings, test_size = 0.2, seed = 1234):\n",
    "    \"\"\"\n",
    "    split the user-item interactions matrix into train and test set\n",
    "    by removing some of the interactions from every user and pretend\n",
    "    that we never seen them\n",
    "    \n",
    "    Parameters\n",
    "    ----------\n",
    "    ratings : scipy sparse csr_matrix, shape [n_users, n_items]\n",
    "        The user-item interactions matrix\n",
    "    \n",
    "    test_size : float between 0.0 and 1.0, default 0.2\n",
    "        Proportion of the user-item interactions for each user\n",
    "        in the dataset to move to the test set; e.g. if set to 0.2\n",
    "        and a user has 10 interactions, then 2 will be moved to the\n",
    "        test set\n",
    "    \n",
    "    seed : int, default 1234\n",
    "        Seed for reproducible random splitting the \n",
    "        data into train/test set\n",
    "    \n",
    "    Returns\n",
    "    ------- \n",
    "    train : scipy sparse csr_matrix, shape [n_users, n_items]\n",
    "        Training set\n",
    "    \n",
    "    test : scipy sparse csr_matrix, shape [n_users, n_items]\n",
    "        Test set\n",
    "    \"\"\"\n",
    "    assert test_size < 1.0 and test_size > 0.0\n",
    "\n",
    "    # Dictionary Of Keys based sparse matrix is more efficient\n",
    "    # for constructing sparse matrices incrementally compared with csr_matrix\n",
    "    train = ratings.copy().tocsr()\n",
    "    test = csr_matrix(train.shape)\n",
    "    \n",
    "    # for all the users assign randomly chosen interactions\n",
    "    # to the test and assign those interactions to zero in the training;\n",
    "    # when computing the interactions to go into the test set, \n",
    "    # remember to round up the numbers (e.g. a user has 4 ratings, if the\n",
    "    # test_size is 0.2, then 0.8 ratings will go to test, thus we need to\n",
    "    # round up to ensure the test set gets at least 1 rating)\n",
    "    rstate = np.random.RandomState(seed)\n",
    "    for u in range(ratings.shape[0]):\n",
    "        split_index = ratings[u].indices\n",
    "        n_splits = ceil(test_size * split_index.shape[0])\n",
    "        test_index = rstate.choice(split_index, size = n_splits, replace = False)\n",
    "        test[u, test_index] = ratings[u, test_index]\n",
    "        train[u, test_index] = 0\n",
    "    \n",
    "    train, test = train.tocsr(), test.tocsr()\n",
    "    return train, test"
   ]
  },
  {
   "cell_type": "code",
   "execution_count": 13,
   "metadata": {
    "scrolled": false
   },
   "outputs": [
    {
     "name": "stderr",
     "output_type": "stream",
     "text": [
      "/anaconda3/lib/python3.6/site-packages/scipy/sparse/compressed.py:746: SparseEfficiencyWarning: Changing the sparsity structure of a csr_matrix is expensive. lil_matrix is more efficient.\n",
      "  SparseEfficiencyWarning)\n"
     ]
    },
    {
     "data": {
      "text/plain": [
       "<24174x111869 sparse matrix of type '<class 'numpy.int64'>'\n",
       "\twith 426208 stored elements in Compressed Sparse Row format>"
      ]
     },
     "execution_count": 13,
     "metadata": {},
     "output_type": "execute_result"
    }
   ],
   "source": [
    "X_train, X_test = create_train_test(X, test_size = 0.1, seed = 20191004)\n",
    "X_train"
   ]
  },
  {
   "cell_type": "code",
   "execution_count": 14,
   "metadata": {},
   "outputs": [
    {
     "name": "stdout",
     "output_type": "stream",
     "text": [
      "(24174, 111869)\n",
      "55686\n"
     ]
    }
   ],
   "source": [
    "print (X_test.shape)\n",
    "print (X_test.getnnz())"
   ]
  },
  {
   "cell_type": "code",
   "execution_count": 15,
   "metadata": {},
   "outputs": [
    {
     "name": "stdout",
     "output_type": "stream",
     "text": [
      "(24174, 111869)\n",
      "426208\n"
     ]
    }
   ],
   "source": [
    "print (X_train.shape)\n",
    "print (X_train.getnnz())"
   ]
  },
  {
   "cell_type": "code",
   "execution_count": 47,
   "metadata": {},
   "outputs": [],
   "source": [
    "class SBPR2:\n",
    "    \"\"\"\n",
    "    Bayesian Personalized Ranking (BPR) for implicit feedback data\n",
    "\n",
    "    Parameters\n",
    "    ----------\n",
    "    learning_rate : float, default 0.01\n",
    "        learning rate for gradient descent\n",
    "\n",
    "    n_factors : int, default 20\n",
    "        Number/dimension of user and item latent factors\n",
    "\n",
    "    n_iters : int, default 15\n",
    "        Number of iterations to train the algorithm\n",
    "        \n",
    "    batch_size : int, default 1000\n",
    "        batch size for batch gradient descent, the original paper\n",
    "        uses stochastic gradient descent (i.e., batch size of 1),\n",
    "        but this can make the training unstable (very sensitive to\n",
    "        learning rate)\n",
    "\n",
    "    reg : int, default 0.01\n",
    "        Regularization term for the user and item latent factors\n",
    "\n",
    "    seed : int, default 1234\n",
    "        Seed for the randomly initialized user, item latent factors\n",
    "\n",
    "    verbose : bool, default True\n",
    "        Whether to print progress bar while training\n",
    "\n",
    "    Attributes\n",
    "    ----------\n",
    "    user_factors : 2d ndarray, shape [n_users, n_factors]\n",
    "        User latent factors learnt\n",
    "\n",
    "    item_factors : 2d ndarray, shape [n_items, n_factors]\n",
    "        Item latent factors learnt\n",
    "\n",
    "    References\n",
    "    ----------\n",
    "    S. Rendle, C. Freudenthaler, Z. Gantner, L. Schmidt-Thieme \n",
    "    Bayesian Personalized Ranking from Implicit Feedback\n",
    "    - https://arxiv.org/abs/1205.2618\n",
    "    \"\"\"\n",
    "    def __init__(self, learning_rate = 0.01, n_factors = 15, n_iters = 10, batch_size = 1, \n",
    "                 social_coefficient = 1, reg_u = 0.015, reg_i = 0.025, reg_k = 0.025, reg_j = 0.025, seed = 1234, verbose = True):\n",
    "        self.reg_u = reg_u\n",
    "        self.reg_i = reg_i\n",
    "        self.reg_k = reg_k\n",
    "        self.reg_j = reg_j\n",
    "        self.s_uk = social_coefficient\n",
    "        \n",
    "        self.seed = seed\n",
    "        self.verbose = verbose\n",
    "        self.n_iters = n_iters\n",
    "        self.n_factors = n_factors\n",
    "        self.batch_size = batch_size\n",
    "        self.learning_rate = learning_rate\n",
    "        \n",
    "        # to avoid re-computation at predict\n",
    "        self._prediction = None\n",
    "        \n",
    "    def fit(self, ratings, sampler):\n",
    "        \"\"\"\n",
    "        Parameters\n",
    "        ----------\n",
    "        ratings : scipy sparse csr_matrix, shape [n_users, n_items]\n",
    "            sparse matrix of user-item interactions\n",
    "        \"\"\"\n",
    "        n_users, n_items = ratings.shape\n",
    "        batch_size = self.batch_size\n",
    "        if n_users < batch_size:\n",
    "            batch_size = n_users\n",
    "            sys.stderr.write('WARNING: Batch size is greater than number of users,'\n",
    "                             'switching to a batch size of {}\\n'.format(n_users))\n",
    "\n",
    "        batch_iters = n_users // batch_size\n",
    "        \n",
    "        # initialize random weights\n",
    "        rstate = np.random.RandomState(self.seed)\n",
    "        self.user_factors = rstate.normal(size = (n_users, self.n_factors))\n",
    "        self.item_factors = rstate.normal(size = (n_items, self.n_factors))\n",
    "        \n",
    "        # progress bar for training iteration if verbose is turned on\n",
    "        loop = range(self.n_iters)\n",
    "        if self.verbose:\n",
    "            loop = trange(self.n_iters, desc = self.__class__.__name__)\n",
    "        self.auc_scores = []\n",
    "        for _ in loop:\n",
    "            for _ in range(batch_iters):\n",
    "                user, items = sampler.static(True)\n",
    "                sampled_users = np.zeros(self.batch_size, dtype = np.int)\n",
    "                sampled_users[0] = get_mappings(mappings['user_code'], user)\n",
    "                \n",
    "                sampled_pos_items = np.zeros(self.batch_size, dtype = np.int)\n",
    "                sampled_pos_items[0] = get_mappings(mappings['item_code'], items['P'])\n",
    "                \n",
    "                \n",
    "                sampled_soc_pos_items = np.zeros(self.batch_size, dtype = np.int)\n",
    "                if 'SP' in items:\n",
    "                    sampled_soc_pos_items[0] = get_mappings(mappings['item_code'], items['SP'])\n",
    "                else:\n",
    "                    sampled_soc_pos_items[0] = -1\n",
    "                \n",
    "                \n",
    "                sampled_neg_items = np.zeros(self.batch_size, dtype = np.int)\n",
    "                sampled_neg_items[0] = get_mappings(mappings['item_code'], items['N'])\n",
    "                \n",
    "                self._update(sampled_users, sampled_pos_items, sampled_soc_pos_items, sampled_neg_items)\n",
    "            self.auc_scores.append(auc_score(sbpr2, X_test))\n",
    "        return self\n",
    "    \n",
    "    \n",
    "    def _update(self, u, i, k ,j):\n",
    "        \"\"\"\n",
    "        update according to the bootstrapped user u, \n",
    "        positive item i and negative item j\n",
    "        \"\"\"\n",
    "        user_u = self.user_factors[u]\n",
    "        item_i = self.item_factors[i]\n",
    "        item_j = self.item_factors[j]\n",
    "        if k != -1:\n",
    "            item_k = self.item_factors[k]\n",
    "        else:\n",
    "            item_k = 0\n",
    "        \n",
    "        # decompose the estimator, compute the difference between\n",
    "        # the score of the (positive and social items) and (social and negative items) ; \n",
    "\n",
    "        r_ukj = np.sum(user_u * (item_k - item_j), axis = 1)\n",
    "        sigmoid_ukj = np.exp(-r_ukj) / (1.0 + np.exp(-r_ukj))     # derivation of 1/(1+exp(-x))\n",
    "        \n",
    "        r_uik = np.sum(user_u*(item_i - item_k), axis = 1)/(1 + self.s_uk)\n",
    "        sigmoid_uik = np.exp(-r_uik) / (1.0 + np.exp(-r_uik))     # derivation of 1/(1+exp(-x))\n",
    "        \n",
    "        # repeat the 1 dimension sigmoid n_factors times so\n",
    "        # the dimension will match when doing the update\n",
    "        \n",
    "        sigmoid_uik_tiled = np.tile(sigmoid_uik, (self.n_factors, 1)).T\n",
    "        sigmoid_ukj_tiled = np.tile(sigmoid_ukj, (self.n_factors, 1)).T\n",
    "        \n",
    "\n",
    "        # update using gradient descent\n",
    "\n",
    "        grad_u = sigmoid_uik_tiled * ((item_k - item_i)/(1 + self.s_uk)) + sigmoid_ukj_tiled * (item_j - item_k) + self.reg_u * user_u\n",
    "        grad_i = sigmoid_uik_tiled * (-user_u)/(1 + self.s_uk) + self.reg_i * item_i\n",
    "        grad_k = sigmoid_uik_tiled * (user_u/(1 + self.s_uk)) + (sigmoid_ukj_tiled * -user_u) + self.reg_k * item_k\n",
    "        grad_j = (sigmoid_ukj_tiled * user_u) + self.reg_j * item_j\n",
    "        \n",
    "        self.user_factors[u] -= self.learning_rate * grad_u\n",
    "        self.item_factors[i] -= self.learning_rate * grad_i\n",
    "        self.item_factors[k] -= self.learning_rate * grad_k\n",
    "        self.item_factors[j] -= self.learning_rate * grad_j\n",
    "        \n",
    "        return self\n",
    "\n",
    "    def predict(self):\n",
    "        \"\"\"\n",
    "        Obtain the predicted ratings for every users and items\n",
    "        by doing a dot product of the learnt user and item vectors.\n",
    "        The result will be cached to avoid re-computing it every time\n",
    "        we call predict, thus there will only be an overhead the first\n",
    "        time we call it. Note, ideally you probably don't need to compute\n",
    "        this as it returns a dense matrix and may take up huge amounts of\n",
    "        memory for large datasets\n",
    "        \"\"\"\n",
    "        if self._prediction is None:\n",
    "            self._prediction = self.user_factors.dot(self.item_factors.T)\n",
    "\n",
    "        return self._prediction\n",
    "\n",
    "    def _predict_user(self, user):\n",
    "        \"\"\"\n",
    "        returns the predicted ratings for the specified user,\n",
    "        this is mainly used in computing evaluation metric\n",
    "        \"\"\"\n",
    "        user_pred = self.user_factors[user].dot(self.item_factors.T)\n",
    "        return user_pred\n",
    "    \n",
    "    def recommend(self, data, N = 5):\n",
    "        \"\"\"\n",
    "        Returns the top N ranked items for given user id,\n",
    "        excluding the ones that the user already liked\n",
    "        \n",
    "        Parameters\n",
    "        ----------\n",
    "        ratings : scipy sparse csr_matrix, shape [n_users, n_items]\n",
    "            sparse matrix of user-item interactions \n",
    "        \n",
    "        N : int, default 5\n",
    "            top-N similar items' N\n",
    "        \n",
    "        Returns\n",
    "        -------\n",
    "        recommendation : 2d ndarray, shape [number of users, N]\n",
    "            each row is the top-N ranked item for each query user\n",
    "        \"\"\"\n",
    "        n_users = data.shape[0]\n",
    "        recommendation = np.zeros((n_users, N))\n",
    "        scores = np.zeros((n_users, N))\n",
    "        users = []\n",
    "        ranks = []\n",
    "        for user in range(n_users):\n",
    "            users.append([user]*N)\n",
    "            ranks.append([i for i in range(1,N+1)])\n",
    "            topN_items, topN_scores = self.recommend_user(data, user, N)\n",
    "            recommendation[user], scores[user] = topN_items, topN_scores\n",
    "\n",
    "        return recommendation, scores, users, ranks\n",
    "    \n",
    "    def get_item_ratings(self, data, u):\n",
    "        \n",
    "        if u not in self.item_ratings:\n",
    "            items = data[u].indices\n",
    "            ratings = data[u].data\n",
    "            \n",
    "            self.item_ratings[u] = []\n",
    "            for i in range(len(items)):\n",
    "                self.item_ratings[u].append((items[i], ratings[i]))\n",
    "                \n",
    "        return self.item_ratings[u]\n",
    "        \n",
    "\n",
    "    def recommend_user(self, data, u, N, validation = True):\n",
    "        \"\"\"the top-N ranked items for a given user\"\"\"\n",
    "        scores = self._predict_user(u)\n",
    "\n",
    "        # compute the top N items, removing the items that the user already liked\n",
    "        # from the result and ensure that we don't get out of bounds error when \n",
    "        # we ask for more recommendations than that are available\n",
    "        liked = set(data[u].indices)\n",
    "        count = N + len(liked)\n",
    "        if count < scores.shape[0]:\n",
    "\n",
    "            # when trying to obtain the top-N indices from the score,\n",
    "            # using argpartition to retrieve the top-N indices in \n",
    "            # unsorted order and then sort them will be faster than doing\n",
    "            # straight up argort on the entire score\n",
    "            # http://stackoverflow.com/questions/42184499/cannot-understand-numpy-argpartition-output\n",
    "            ids = np.argpartition(scores, -count)[-count:]\n",
    "            best_ids = np.argsort(scores[ids])[::-1]\n",
    "            best = ids[best_ids]\n",
    "            best_scores = scores[best]\n",
    "        else:\n",
    "            best = np.argsort(scores)[::-1]\n",
    "            best_scores = scores[best]    \n",
    "\n",
    "        topN_items = []\n",
    "        topN_scores = []\n",
    "        for i in range(len(best)):\n",
    "            if best[i] not in liked:\n",
    "                topN_items.append(best[i])\n",
    "                topN_scores.append(best_scores[i])\n",
    "                \n",
    "        topN_items = list(islice((item for item in topN_items), N))\n",
    "        topN_scores = list(islice((score for score in topN_scores), N))\n",
    "        return topN_items, topN_scores"
   ]
  },
  {
   "cell_type": "code",
   "execution_count": 48,
   "metadata": {},
   "outputs": [],
   "source": [
    "sampler = Sample(positive_df, social_positive_df)"
   ]
  },
  {
   "cell_type": "code",
   "execution_count": null,
   "metadata": {
    "scrolled": false
   },
   "outputs": [
    {
     "name": "stderr",
     "output_type": "stream",
     "text": [
      "\n",
      "\n",
      "SBPR2:   0%|          | 0/100 [00:00<?, ?it/s]\u001b[A\u001b[A\n",
      "\n",
      "SBPR2:   1%|          | 1/100 [01:02<1:42:54, 62.36s/it]\u001b[A\u001b[A\n",
      "\n",
      "SBPR2:   2%|▏         | 2/100 [02:07<1:43:02, 63.08s/it]\u001b[A\u001b[A\n",
      "\n",
      "SBPR2:   3%|▎         | 3/100 [03:07<1:40:41, 62.28s/it]\u001b[A\u001b[A\n",
      "\n",
      "SBPR2:   4%|▍         | 4/100 [04:14<1:41:39, 63.53s/it]\u001b[A\u001b[A\n",
      "\n",
      "SBPR2:   5%|▌         | 5/100 [05:28<1:46:00, 66.96s/it]\u001b[A\u001b[A\n",
      "\n",
      "SBPR2:   6%|▌         | 6/100 [06:56<1:54:28, 73.06s/it]\u001b[A\u001b[A\n",
      "\n",
      "SBPR2:   7%|▋         | 7/100 [08:08<1:52:47, 72.77s/it]\u001b[A\u001b[A\n",
      "\n",
      "SBPR2:   8%|▊         | 8/100 [09:08<1:46:00, 69.14s/it]\u001b[A\u001b[A\n",
      "\n",
      "SBPR2:   9%|▉         | 9/100 [10:08<1:40:41, 66.39s/it]\u001b[A\u001b[A\n",
      "\n",
      "SBPR2:  10%|█         | 10/100 [11:20<1:41:54, 67.94s/it]\u001b[A\u001b[A\n",
      "\n",
      "SBPR2:  11%|█         | 11/100 [12:42<1:46:54, 72.08s/it]\u001b[A\u001b[A\n",
      "\n",
      "SBPR2:  12%|█▏        | 12/100 [13:58<1:47:40, 73.41s/it]\u001b[A\u001b[A\n",
      "\n",
      "SBPR2:  13%|█▎        | 13/100 [15:04<1:43:03, 71.08s/it]\u001b[A\u001b[A\n",
      "\n",
      "SBPR2:  14%|█▍        | 14/100 [16:06<1:38:06, 68.45s/it]\u001b[A\u001b[A\n",
      "\n",
      "SBPR2:  15%|█▌        | 15/100 [17:09<1:34:27, 66.67s/it]\u001b[A\u001b[A\n",
      "\n",
      "SBPR2:  16%|█▌        | 16/100 [18:10<1:31:05, 65.07s/it]\u001b[A\u001b[A\n",
      "\n",
      "SBPR2:  17%|█▋        | 17/100 [19:11<1:28:19, 63.85s/it]\u001b[A\u001b[A\n",
      "\n",
      "SBPR2:  18%|█▊        | 18/100 [20:13<1:26:23, 63.22s/it]\u001b[A\u001b[A\n",
      "\n",
      "SBPR2:  19%|█▉        | 19/100 [21:15<1:24:42, 62.75s/it]\u001b[A\u001b[A\n",
      "\n",
      "SBPR2:  20%|██        | 20/100 [22:17<1:23:27, 62.59s/it]\u001b[A\u001b[A\n",
      "\n",
      "SBPR2:  21%|██        | 21/100 [23:18<1:21:55, 62.22s/it]\u001b[A\u001b[A\n",
      "\n",
      "SBPR2:  22%|██▏       | 22/100 [24:19<1:20:13, 61.71s/it]\u001b[A\u001b[A"
     ]
    }
   ],
   "source": [
    "# parameters were randomly chosen\n",
    "sbpr2_params = {'reg_u': 0.05,\n",
    "                'reg_i': 0.05,\n",
    "                'reg_k' : 0.05,\n",
    "                'reg_j' : 0.05,\n",
    "                'learning_rate': 0.1,\n",
    "                'n_iters': 100,\n",
    "                'n_factors': 10}\n",
    "sbpr2 = SBPR2(**sbpr2_params)\n",
    "sbpr2.fit(X_train, sampler)"
   ]
  },
  {
   "cell_type": "code",
   "execution_count": 42,
   "metadata": {},
   "outputs": [],
   "source": [
    "def auc_score(model, ratings):\n",
    "    \"\"\"\n",
    "    computes area under the ROC curve (AUC).\n",
    "    The full name should probably be mean\n",
    "    auc score as it is computing the auc\n",
    "    for every user's prediction and actual\n",
    "    interaction and taking the average for\n",
    "    all users\n",
    "    \n",
    "    Parameters\n",
    "    ----------\n",
    "    model : BPR instance\n",
    "        Trained BPR model\n",
    "        \n",
    "    ratings : scipy sparse csr_matrix, shape [n_users, n_items]\n",
    "        sparse matrix of user-item interactions\n",
    "    \n",
    "    Returns\n",
    "    -------\n",
    "    auc : float 0.0 ~ 1.0\n",
    "    \"\"\"\n",
    "    auc = 0.0\n",
    "    \n",
    "    n_users, n_items = ratings.shape\n",
    "    for user, row in enumerate(ratings):\n",
    "        y_pred = model._predict_user(user)\n",
    "        y_true = np.zeros(n_items)\n",
    "        y_true[row.indices] = 1\n",
    "        auc += roc_auc_score(y_true, y_pred)\n",
    "    auc /= n_users\n",
    "    return auc"
   ]
  },
  {
   "cell_type": "code",
   "execution_count": 58,
   "metadata": {},
   "outputs": [
    {
     "data": {
      "text/plain": [
       "[0.5036403457152228,\n",
       " 0.5058614895239798,\n",
       " 0.5089064962555336,\n",
       " 0.511569943062891,\n",
       " 0.5133849284434825]"
      ]
     },
     "execution_count": 58,
     "metadata": {},
     "output_type": "execute_result"
    }
   ],
   "source": [
    "sbpr2.auc_scores"
   ]
  },
  {
   "cell_type": "code",
   "execution_count": 56,
   "metadata": {},
   "outputs": [
    {
     "data": {
      "text/plain": [
       "[0.5044601379917111,\n",
       " 0.5078274677646848,\n",
       " 0.5098375697994155,\n",
       " 0.5129583777284646,\n",
       " 0.5154292672812177]"
      ]
     },
     "execution_count": 56,
     "metadata": {},
     "output_type": "execute_result"
    }
   ],
   "source": [
    "sbpr2.auc_scores"
   ]
  },
  {
   "cell_type": "code",
   "execution_count": 54,
   "metadata": {},
   "outputs": [
    {
     "data": {
      "text/plain": [
       "[0.5040421245087124,\n",
       " 0.5071892449574946,\n",
       " 0.5108388916800568,\n",
       " 0.5137507397963965,\n",
       " 0.5170175703704628]"
      ]
     },
     "execution_count": 54,
     "metadata": {},
     "output_type": "execute_result"
    }
   ],
   "source": [
    "sbpr2.auc_scores"
   ]
  },
  {
   "cell_type": "code",
   "execution_count": 51,
   "metadata": {},
   "outputs": [
    {
     "data": {
      "text/plain": [
       "[0.5038837913456319,\n",
       " 0.5074928667920732,\n",
       " 0.5101814851246124,\n",
       " 0.5136734640997465,\n",
       " 0.5166358765907878]"
      ]
     },
     "execution_count": 51,
     "metadata": {},
     "output_type": "execute_result"
    }
   ],
   "source": [
    "sbpr2.auc_scores"
   ]
  },
  {
   "cell_type": "code",
   "execution_count": 52,
   "metadata": {
    "scrolled": false
   },
   "outputs": [
    {
     "data": {
      "text/plain": [
       "[<matplotlib.lines.Line2D at 0x1a1c8635c0>]"
      ]
     },
     "execution_count": 52,
     "metadata": {},
     "output_type": "execute_result"
    },
    {
     "data": {
      "image/png": "[encoded data removed]",
      "text/plain": [
       "<Figure size 432x288 with 1 Axes>"
      ]
     },
     "metadata": {
      "needs_background": "light"
     },
     "output_type": "display_data"
    }
   ],
   "source": [
    "from matplotlib import pyplot as plt\n",
    "auc = sbpr2.auc_scores\n",
    "x = range(5)\n",
    "plt.plot(x,auc)"
   ]
  },
  {
   "cell_type": "code",
   "execution_count": 21,
   "metadata": {
    "scrolled": true
   },
   "outputs": [],
   "source": [
    "recommendation, scores, users, ranks = bpr.recommend(X_test, N = 5)"
   ]
  },
  {
   "cell_type": "code",
   "execution_count": 28,
   "metadata": {},
   "outputs": [
    {
     "name": "stdout",
     "output_type": "stream",
     "text": [
      "24174\n"
     ]
    }
   ],
   "source": [
    "print (len(recommendation))"
   ]
  },
  {
   "cell_type": "code",
   "execution_count": 29,
   "metadata": {
    "scrolled": true
   },
   "outputs": [
    {
     "name": "stdout",
     "output_type": "stream",
     "text": [
      "24174\n"
     ]
    }
   ],
   "source": [
    "print (len(scores))"
   ]
  },
  {
   "cell_type": "code",
   "execution_count": 30,
   "metadata": {},
   "outputs": [
    {
     "name": "stdout",
     "output_type": "stream",
     "text": [
      "24174\n"
     ]
    }
   ],
   "source": [
    "print (len(users))"
   ]
  },
  {
   "cell_type": "code",
   "execution_count": 31,
   "metadata": {},
   "outputs": [
    {
     "name": "stdout",
     "output_type": "stream",
     "text": [
      "24174\n"
     ]
    }
   ],
   "source": [
    "print (len(ranks))"
   ]
  },
  {
   "cell_type": "code",
   "execution_count": 22,
   "metadata": {},
   "outputs": [],
   "source": [
    "flatten = lambda l: [item for sublist in l for item in sublist]"
   ]
  },
  {
   "cell_type": "code",
   "execution_count": 34,
   "metadata": {
    "scrolled": true
   },
   "outputs": [
    {
     "ename": "TypeError",
     "evalue": "only size-1 arrays can be converted to Python scalars",
     "output_type": "error",
     "traceback": [
      "\u001b[0;31m---------------------------------------------------------------------------\u001b[0m",
      "\u001b[0;31mTypeError\u001b[0m                                 Traceback (most recent call last)",
      "\u001b[0;32m<ipython-input-34-d651d1318065>\u001b[0m in \u001b[0;36m<module>\u001b[0;34m()\u001b[0m\n\u001b[0;32m----> 1\u001b[0;31m \u001b[0mdf_test\u001b[0m \u001b[0;34m=\u001b[0m \u001b[0mpd\u001b[0m\u001b[0;34m.\u001b[0m\u001b[0mDataFrame\u001b[0m\u001b[0;34m(\u001b[0m\u001b[0;34m{\u001b[0m\u001b[0;34m'user'\u001b[0m\u001b[0;34m:\u001b[0m \u001b[0mflatten\u001b[0m\u001b[0;34m(\u001b[0m\u001b[0musers\u001b[0m\u001b[0;34m)\u001b[0m\u001b[0;34m,\u001b[0m \u001b[0;34m'item'\u001b[0m\u001b[0;34m:\u001b[0m \u001b[0mflatten\u001b[0m\u001b[0;34m(\u001b[0m\u001b[0mint\u001b[0m\u001b[0;34m(\u001b[0m\u001b[0mrecommendation\u001b[0m\u001b[0;34m)\u001b[0m\u001b[0;34m)\u001b[0m\u001b[0;34m,\u001b[0m \u001b[0;34m'score'\u001b[0m\u001b[0;34m:\u001b[0m \u001b[0mflatten\u001b[0m\u001b[0;34m(\u001b[0m\u001b[0mscores\u001b[0m\u001b[0;34m)\u001b[0m\u001b[0;34m,\u001b[0m \u001b[0;34m'rank'\u001b[0m\u001b[0;34m:\u001b[0m \u001b[0mflatten\u001b[0m\u001b[0;34m(\u001b[0m\u001b[0mranks\u001b[0m\u001b[0;34m)\u001b[0m\u001b[0;34m}\u001b[0m\u001b[0;34m)\u001b[0m\u001b[0;34m\u001b[0m\u001b[0m\n\u001b[0m",
      "\u001b[0;31mTypeError\u001b[0m: only size-1 arrays can be converted to Python scalars"
     ]
    }
   ],
   "source": [
    "df_test = pd.DataFrame({'user': flatten(users), 'item': flatten(recommendation), 'score': flatten(scores), 'rank': flatten(ranks)})\n"
   ]
  },
  {
   "cell_type": "code",
   "execution_count": 35,
   "metadata": {},
   "outputs": [],
   "source": [
    "df_test['item'] = df_test['item'].astype(int)"
   ]
  },
  {
   "cell_type": "code",
   "execution_count": 36,
   "metadata": {
    "scrolled": true
   },
   "outputs": [
    {
     "data": {
      "text/html": [
       "<div>\n",
       "<style scoped>\n",
       "    .dataframe tbody tr th:only-of-type {\n",
       "        vertical-align: middle;\n",
       "    }\n",
       "\n",
       "    .dataframe tbody tr th {\n",
       "        vertical-align: top;\n",
       "    }\n",
       "\n",
       "    .dataframe thead th {\n",
       "        text-align: right;\n",
       "    }\n",
       "</style>\n",
       "<table border=\"1\" class=\"dataframe\">\n",
       "  <thead>\n",
       "    <tr style=\"text-align: right;\">\n",
       "      <th></th>\n",
       "      <th>user</th>\n",
       "      <th>item</th>\n",
       "      <th>score</th>\n",
       "      <th>rank</th>\n",
       "    </tr>\n",
       "  </thead>\n",
       "  <tbody>\n",
       "    <tr>\n",
       "      <th>0</th>\n",
       "      <td>1</td>\n",
       "      <td>69963</td>\n",
       "      <td>14.722504</td>\n",
       "      <td>1</td>\n",
       "    </tr>\n",
       "    <tr>\n",
       "      <th>1</th>\n",
       "      <td>1</td>\n",
       "      <td>31660</td>\n",
       "      <td>14.636142</td>\n",
       "      <td>2</td>\n",
       "    </tr>\n",
       "    <tr>\n",
       "      <th>2</th>\n",
       "      <td>1</td>\n",
       "      <td>58681</td>\n",
       "      <td>14.338766</td>\n",
       "      <td>3</td>\n",
       "    </tr>\n",
       "    <tr>\n",
       "      <th>3</th>\n",
       "      <td>1</td>\n",
       "      <td>93133</td>\n",
       "      <td>14.136444</td>\n",
       "      <td>4</td>\n",
       "    </tr>\n",
       "    <tr>\n",
       "      <th>4</th>\n",
       "      <td>1</td>\n",
       "      <td>105175</td>\n",
       "      <td>14.023970</td>\n",
       "      <td>5</td>\n",
       "    </tr>\n",
       "  </tbody>\n",
       "</table>\n",
       "</div>"
      ],
      "text/plain": [
       "   user    item      score  rank\n",
       "0     1   69963  14.722504     1\n",
       "1     1   31660  14.636142     2\n",
       "2     1   58681  14.338766     3\n",
       "3     1   93133  14.136444     4\n",
       "4     1  105175  14.023970     5"
      ]
     },
     "execution_count": 36,
     "metadata": {},
     "output_type": "execute_result"
    }
   ],
   "source": [
    "df_test.head()"
   ]
  },
  {
   "cell_type": "code",
   "execution_count": 37,
   "metadata": {},
   "outputs": [],
   "source": [
    "test_data = pd.DataFrame(columns = ['user_id', 'item_id', 'rating'])\n"
   ]
  },
  {
   "cell_type": "code",
   "execution_count": 38,
   "metadata": {},
   "outputs": [],
   "source": [
    "X_test_np = X_test.toarray()"
   ]
  },
  {
   "cell_type": "code",
   "execution_count": 39,
   "metadata": {},
   "outputs": [],
   "source": [
    "users = [i+1 for i in range(X_test_np.shape[0])]"
   ]
  },
  {
   "cell_type": "code",
   "execution_count": 40,
   "metadata": {},
   "outputs": [],
   "source": [
    "items = [i+1 for i in range(X_test_np.shape[1])]"
   ]
  },
  {
   "cell_type": "code",
   "execution_count": 41,
   "metadata": {},
   "outputs": [
    {
     "name": "stdout",
     "output_type": "stream",
     "text": [
      "24174 111869\n"
     ]
    }
   ],
   "source": [
    "print (len(users), len(items))"
   ]
  },
  {
   "cell_type": "code",
   "execution_count": null,
   "metadata": {},
   "outputs": [],
   "source": [
    "f = open('test_data.txt', 'w+')\n",
    "for user in users:\n",
    "    for item in items:\n",
    "        line = str(user) + ' ' + str(item) + ' ' + str(X_test_np[user-1][item-1]) + '\\n'\n",
    "f.close()"
   ]
  },
  {
   "cell_type": "code",
   "execution_count": null,
   "metadata": {},
   "outputs": [],
   "source": [
    "test_data['rating'] = test_ratings\n",
    "test_data['user'] = users\n",
    "test_data['item'] = items"
   ]
  },
  {
   "cell_type": "code",
   "execution_count": null,
   "metadata": {},
   "outputs": [],
   "source": [
    "test_data.head()"
   ]
  },
  {
   "cell_type": "code",
   "execution_count": null,
   "metadata": {},
   "outputs": [],
   "source": [
    "len(df_test['item'])"
   ]
  },
  {
   "cell_type": "code",
   "execution_count": null,
   "metadata": {},
   "outputs": [],
   "source": [
    "len(test_data['rating'])"
   ]
  },
  {
   "cell_type": "code",
   "execution_count": null,
   "metadata": {},
   "outputs": [],
   "source": [
    "from lenskit import batch, topn, util\n",
    "from lenskit import crossfold as xf\n",
    "from lenskit.algorithms import Recommender, als, item_knn as knn\n",
    "from lenskit import topn"
   ]
  },
  {
   "cell_type": "code",
   "execution_count": null,
   "metadata": {},
   "outputs": [],
   "source": [
    "df.columns = ['user', 'item', 'rating']\n",
    "df_test.columns = ['user', 'item', 'score', 'rank']\n",
    "df_test['Algorithm'] = ['BPR']*len(df_test['item'])"
   ]
  },
  {
   "cell_type": "code",
   "execution_count": null,
   "metadata": {},
   "outputs": [],
   "source": [
    "test_data.head()"
   ]
  },
  {
   "cell_type": "code",
   "execution_count": null,
   "metadata": {
    "scrolled": true
   },
   "outputs": [],
   "source": [
    "df_test.head()"
   ]
  },
  {
   "cell_type": "code",
   "execution_count": null,
   "metadata": {
    "scrolled": true
   },
   "outputs": [],
   "source": [
    "df.head()"
   ]
  },
  {
   "cell_type": "code",
   "execution_count": null,
   "metadata": {},
   "outputs": [],
   "source": [
    "df['rating'] = np.array(df['rating']).astype(float)"
   ]
  },
  {
   "cell_type": "code",
   "execution_count": null,
   "metadata": {},
   "outputs": [],
   "source": [
    "ndcg = topn.ndcg(df_test, df)"
   ]
  },
  {
   "cell_type": "code",
   "execution_count": null,
   "metadata": {},
   "outputs": [],
   "source": [
    "ndcg"
   ]
  },
  {
   "cell_type": "code",
   "execution_count": null,
   "metadata": {},
   "outputs": [],
   "source": [
    "recall_at_5 = topn.recall(df_test, test_data)"
   ]
  },
  {
   "cell_type": "code",
   "execution_count": null,
   "metadata": {},
   "outputs": [],
   "source": [
    "recall_at_5"
   ]
  },
  {
   "cell_type": "code",
   "execution_count": null,
   "metadata": {},
   "outputs": [],
   "source": [
    "precision_at_5 = topn.precision(df_test, test_data)\n",
    "precision_at_5"
   ]
  },
  {
   "cell_type": "code",
   "execution_count": null,
   "metadata": {},
   "outputs": [],
   "source": [
    "test_data['item']"
   ]
  },
  {
   "cell_type": "code",
   "execution_count": null,
   "metadata": {},
   "outputs": [],
   "source": []
  }
 ],
 "metadata": {
  "kernelspec": {
   "display_name": "Python 3",
   "language": "python",
   "name": "python3"
  },
  "language_info": {
   "codemirror_mode": {
    "name": "ipython",
    "version": 3
   },
   "file_extension": ".py",
   "mimetype": "text/x-python",
   "name": "python",
   "nbconvert_exporter": "python",
   "pygments_lexer": "ipython3",
   "version": "3.7.1"
  }
 },
 "nbformat": 4,
 "nbformat_minor": 2
}
